{
 "cells": [
  {
   "cell_type": "code",
   "execution_count": 32,
   "metadata": {},
   "outputs": [],
   "source": [
    "#Name:(Hijab Riaz)\n",
    "#Reg No:(2019-EE-253)\n",
    "import numpy as np\n",
    "#NumPy is a library for the Python programming language, adding support for large, matrices.Here we use as \"np\"  \n",
    "import math as m\n",
    "#Python has a set of built-in math functions, including an extensive math module, that allows you to perform mathematical tasks on numbers.Here we use as the name \"m\"\n",
    "from sklearn.metrics.pairwise import paired_distances"
   ]
  },
  {
   "cell_type": "code",
   "execution_count": 33,
   "metadata": {},
   "outputs": [],
   "source": [
    "def Distance(H):#define a function Distance\n",
    "    n= H.shape[0]\n",
    "    B= np.zeros((n,n))\n",
    "    for i in range(n):\n",
    "        for j in range(n):\n",
    "            B[i,j] = m.sqrt((abs(H[i,0])-abs(H[j,0]))**2+(abs(H[i,1])-abs(H[j,1]))**2)\n",
    "            B[j,i] = m.sqrt((abs(H[i,0])-abs(H[j,0]))**2+(abs(H[i,1])-abs(H[j,1]))**2)\n",
    "    return B"
   ]
  },
  {
   "cell_type": "code",
   "execution_count": 34,
   "metadata": {},
   "outputs": [
    {
     "name": "stdout",
     "output_type": "stream",
     "text": [
      "4.29 s ± 194 ms per loop (mean ± std. dev. of 7 runs, 1 loop each)\n",
      "63 µs ± 5.96 µs per loop (mean ± std. dev. of 7 runs, 10000 loops each)\n"
     ]
    }
   ],
   "source": [
    "H = np.random.normal(size=(1000,6))\n",
    "%timeit Distance(H)#modulo operator distance (H)\n",
    "%timeit paired_distances(H,H)#modulo operator paired_distance"
   ]
  },
  {
   "cell_type": "code",
   "execution_count": null,
   "metadata": {},
   "outputs": [],
   "source": []
  }
 ],
 "metadata": {
  "kernelspec": {
   "display_name": "Python 3",
   "language": "python",
   "name": "python3"
  },
  "language_info": {
   "codemirror_mode": {
    "name": "ipython",
    "version": 3
   },
   "file_extension": ".py",
   "mimetype": "text/x-python",
   "name": "python",
   "nbconvert_exporter": "python",
   "pygments_lexer": "ipython3",
   "version": "3.7.4"
  }
 },
 "nbformat": 4,
 "nbformat_minor": 5
}
